{
 "cells": [
  {
   "cell_type": "code",
   "execution_count": 4,
   "metadata": {},
   "outputs": [
    {
     "data": {
      "text/html": [
       "<style>.container { width:100% !important; }</style>"
      ],
      "text/plain": [
       "<IPython.core.display.HTML object>"
      ]
     },
     "metadata": {},
     "output_type": "display_data"
    }
   ],
   "source": [
    "import sys\n",
    "import os\n",
    "sys.path.insert(0, os.path.dirname(os.getcwd()))\n",
    "from config import *\n",
    "\n",
    "from IPython.core.display import display, HTML\n",
    "display(HTML(\"<style>.container { width:100% !important; }</style>\"))\n",
    "%matplotlib inline\n",
    "import time\n",
    "\n",
    "from keras import backend as K"
   ]
  },
  {
   "cell_type": "code",
   "execution_count": 5,
   "metadata": {},
   "outputs": [],
   "source": [
    "# standardization\n",
    "# mean is computed only over the training data and then subtracted equally from all splits\n",
    "scaler = StandardScaler().fit(X_train)\n",
    "X_train = (X_train - scaler.mean_) / np.sqrt(scaler.var_)\n",
    "X_test = (X_test - scaler.mean_) / np.sqrt(scaler.var_)"
   ]
  },
  {
   "cell_type": "code",
   "execution_count": 3,
   "metadata": {},
   "outputs": [
    {
     "data": {
      "text/plain": [
       "0.8283349377566049"
      ]
     },
     "execution_count": 3,
     "metadata": {},
     "output_type": "execute_result"
    }
   ],
   "source": [
    "K.clear_session()\n",
    "model = Sequential()\n",
    "model.add(Dense(30, activation='relu', name=\"hidden_1\", input_dim=X_train.shape[1]))\n",
    "model.add(Dense(40, activation='relu', name=\"hidden_2\"))\n",
    "model.add(Dense(1, activation='sigmoid', name=\"op\"))\n",
    "model.compile(optimizer=Adam(lr=1e-4), loss='binary_crossentropy')\n",
    "history = model.fit(X_train, y_train, epochs=30, batch_size=512, shuffle=True, verbose=0)\n",
    "roc_auc_score(y_test, model.predict_proba(X_test))"
   ]
  },
  {
   "cell_type": "code",
   "execution_count": 11,
   "metadata": {},
   "outputs": [],
   "source": [
    "def learning_curve_nn(X, y, cv=None, train_size=None):\n",
    "    lc_train = [] \n",
    "    lc_cv = []\n",
    "\n",
    "    cut_points = np.round(train_size * X.shape[0]).astype(int)\n",
    "    for cp in cut_points:\n",
    "        X_sample = X.iloc[:cp]\n",
    "        y_sample = y.iloc[:cp]\n",
    "        train_scores = []\n",
    "        cv_scores = []\n",
    "        for train_idx, val_idx in cv.split(X_sample, y_sample):\n",
    "            xtrain, xval = X_sample.iloc[train_idx], X_sample.iloc[val_idx]\n",
    "            ytrain, yval = y_sample.iloc[train_idx], y_sample.iloc[val_idx]\n",
    "\n",
    "            K.clear_session()\n",
    "            model = Sequential()\n",
    "            model.add(Dense(30, activation='relu', name=\"hidden_1\", input_dim=X_train.shape[1]))\n",
    "            model.add(Dense(40, activation='relu', name=\"hidden_2\"))\n",
    "            model.add(Dense(40, activation='relu', name=\"hidden_3\"))\n",
    "            model.add(Dense(1, activation='sigmoid', name=\"op\"))\n",
    "            model.compile(optimizer=Adam(lr=1e-4), loss='binary_crossentropy')\n",
    "            history = model.fit(xtrain, ytrain, epochs=30, batch_size=512, shuffle=True, verbose=0)\n",
    "            \n",
    "            fold_train_score = roc_auc_score(ytrain, model.predict_proba(xtrain))\n",
    "            fold_cv_score = roc_auc_score(yval, model.predict_proba(xval))\n",
    "#             fold_train_score = model.evaluate(xtrain, ytrain, batch_size=512)\n",
    "#             fold_cv_score = model.evaluate(xval, yval, batch_size=512)\n",
    "\n",
    "            train_scores.append(fold_train_score)\n",
    "            cv_scores.append(fold_cv_score)\n",
    "\n",
    "        lc_train.append(train_scores)\n",
    "        lc_cv.append(cv_scores)\n",
    "    return train_size, np.array(lc_train), np.array(lc_cv)"
   ]
  },
  {
   "cell_type": "code",
   "execution_count": 12,
   "metadata": {
    "collapsed": true
   },
   "outputs": [],
   "source": [
    "def plot_learning_curve_nn(title, X, y, ylim=None, cv=None, train_sizes=np.linspace(.1, 1.0, 5)):\n",
    "    plt.figure()\n",
    "    plt.title(title)\n",
    "    if ylim is not None:\n",
    "        plt.ylim(*ylim)\n",
    "    plt.xlabel(\"Training examples\")\n",
    "    plt.ylabel('roc_auc_score')\n",
    "\n",
    "    train_sizes, train_scores, test_scores = learning_curve_nn(X, y, cv=cv, train_size=train_sizes)\n",
    "    \n",
    "    print(train_scores)\n",
    "    print(test_scores)\n",
    "    \n",
    "    train_scores_mean = np.mean(train_scores, axis=1)\n",
    "    train_scores_std = np.std(train_scores, axis=1)\n",
    "    test_scores_mean = np.mean(test_scores, axis=1)\n",
    "    test_scores_std = np.std(test_scores, axis=1)\n",
    "    plt.grid(linewidth=1)\n",
    "\n",
    "    plt.fill_between(train_sizes, train_scores_mean - train_scores_std,\n",
    "                     train_scores_mean + train_scores_std, alpha=0.1,\n",
    "                     color=\"r\")\n",
    "    plt.fill_between(train_sizes, test_scores_mean - test_scores_std,\n",
    "                     test_scores_mean + test_scores_std, alpha=0.1, color=\"g\")\n",
    "    plt.plot(train_sizes, train_scores_mean, 'o-', color=\"r\",\n",
    "             label=\"Training score\")\n",
    "    plt.plot(train_sizes, test_scores_mean, 'o-', color=\"g\",\n",
    "             label=\"Cross-validation score\")\n",
    "\n",
    "    plt.legend(loc=\"best\")\n",
    "    return plt"
   ]
  },
  {
   "cell_type": "code",
   "execution_count": 13,
   "metadata": {},
   "outputs": [
    {
     "name": "stdout",
     "output_type": "stream",
     "text": [
      "[[0.55035942 0.71714456 0.60197283 0.22427209 0.44764503 0.33069779\n",
      "  0.63970946 0.59020619 0.75526531 0.79919679]\n",
      " [0.7034048  0.66642263 0.72167456 0.73400077 0.75657042 0.72906191\n",
      "  0.54523265 0.71847994 0.7967571  0.61676824]\n",
      " [0.77638469 0.73516187 0.78871169 0.77307471 0.6187988  0.78678072\n",
      "  0.77813633 0.6739488  0.73322252 0.72780388]\n",
      " [0.80334122 0.81423671 0.72674481 0.81291194 0.80129801 0.73273157\n",
      "  0.77932809 0.68173149 0.79526067 0.82785304]\n",
      " [0.81600052 0.81954787 0.80717763 0.82322041 0.81652212 0.81165664\n",
      "  0.82271075 0.81275234 0.78180947 0.8129173 ]]\n",
      "[[0.54076087 0.75302663 0.66491228 0.2516129  0.39130435 0.29870968\n",
      "  0.56716418 0.69907407 0.70779221 0.74580645]\n",
      " [0.72425643 0.62845575 0.71582397 0.72403101 0.71688837 0.7787055\n",
      "  0.48319088 0.69988074 0.77459896 0.67755928]\n",
      " [0.76292724 0.73493151 0.79643684 0.81472792 0.61426979 0.82748538\n",
      "  0.76729877 0.62427721 0.66807753 0.74567983]\n",
      " [0.82248904 0.83015609 0.72255913 0.81213742 0.8100231  0.72544999\n",
      "  0.7539117  0.64239491 0.80300601 0.79878559]\n",
      " [0.81275752 0.77676095 0.79724491 0.83540649 0.81800409 0.80454639\n",
      "  0.8099562  0.8210928  0.79253777 0.79740401]]\n",
      "79.72729396820068\n"
     ]
    },
    {
     "data": {
      "image/png": "[encoded data removed]",
      "text/plain": [
       "<matplotlib.figure.Figure at 0x11bff7e10>"
      ]
     },
     "metadata": {},
     "output_type": "display_data"
    }
   ],
   "source": [
    "title = \"Learning Curves (Neural Network)\"\n",
    "seed = 0\n",
    "# kfold = StratifiedKFold(n_splits=10, shuffle=True, random_state=seed)\n",
    "cv = ShuffleSplit(n_splits=10, test_size=0.2, random_state=1)\n",
    "\n",
    "start = time.time()\n",
    "plot_learning_curve_nn(title, X_train, y_train, ylim=(0.1, 1.01), cv=cv)\n",
    "print(time.time() - start)\n"
   ]
  },
  {
   "cell_type": "code",
   "execution_count": null,
   "metadata": {},
   "outputs": [],
   "source": []
  },
  {
   "cell_type": "code",
   "execution_count": null,
   "metadata": {
    "collapsed": true
   },
   "outputs": [],
   "source": []
  },
  {
   "cell_type": "code",
   "execution_count": null,
   "metadata": {
    "collapsed": true
   },
   "outputs": [],
   "source": []
  },
  {
   "cell_type": "code",
   "execution_count": null,
   "metadata": {
    "collapsed": true
   },
   "outputs": [],
   "source": []
  },
  {
   "cell_type": "code",
   "execution_count": null,
   "metadata": {
    "collapsed": true
   },
   "outputs": [],
   "source": []
  },
  {
   "cell_type": "code",
   "execution_count": null,
   "metadata": {
    "collapsed": true
   },
   "outputs": [],
   "source": []
  },
  {
   "cell_type": "code",
   "execution_count": null,
   "metadata": {
    "collapsed": true
   },
   "outputs": [],
   "source": []
  },
  {
   "cell_type": "code",
   "execution_count": null,
   "metadata": {
    "collapsed": true
   },
   "outputs": [],
   "source": []
  },
  {
   "cell_type": "code",
   "execution_count": null,
   "metadata": {
    "collapsed": true
   },
   "outputs": [],
   "source": []
  },
  {
   "cell_type": "code",
   "execution_count": null,
   "metadata": {
    "collapsed": true
   },
   "outputs": [],
   "source": []
  },
  {
   "cell_type": "code",
   "execution_count": null,
   "metadata": {
    "collapsed": true
   },
   "outputs": [],
   "source": []
  },
  {
   "cell_type": "code",
   "execution_count": null,
   "metadata": {
    "collapsed": true
   },
   "outputs": [],
   "source": []
  },
  {
   "cell_type": "code",
   "execution_count": 6,
   "metadata": {
    "collapsed": true
   },
   "outputs": [],
   "source": [
    "args_dict = {'hidden_layer_sizes': 10, \n",
    "             'activation': 'relu', \n",
    "             'solver': 'adam', \n",
    "             'alpha': 1e-2, \n",
    "             'batch_size': 128, \n",
    "             'learning_rate_init': 0.001, \n",
    "             'max_iter': 300, \n",
    "             'shuffle': True, \n",
    "             'tol': 1e-4, \n",
    "             'verbose': False,\n",
    "             'early_stopping': False,\n",
    "             'validation_fraction': 0.2   # default 0.1\n",
    "            }\n",
    "\n",
    "clf = MLPClassifier(**args_dict)\n",
    "title = \"Learning Curves (Neural Nets)\"\n",
    "cv = ShuffleSplit(n_splits=10, test_size=0.2, random_state=1)\n",
    "plot_learning_curve(clf, title, X_train, y_train, ylim=(0.7, 1.01), cv=cv, metric=roc_auc_score, n_jobs=4)"
   ]
  }
 ],
 "metadata": {
  "kernelspec": {
   "display_name": "Python 3",
   "language": "python",
   "name": "python3"
  },
  "language_info": {
   "codemirror_mode": {
    "name": "ipython",
    "version": 3
   },
   "file_extension": ".py",
   "mimetype": "text/x-python",
   "name": "python",
   "nbconvert_exporter": "python",
   "pygments_lexer": "ipython3",
   "version": "3.6.1"
  }
 },
 "nbformat": 4,
 "nbformat_minor": 2
}
